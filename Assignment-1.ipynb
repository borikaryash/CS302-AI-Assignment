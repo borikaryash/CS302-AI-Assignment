{
 "cells": [
  {
   "cell_type": "code",
   "execution_count": null,
   "metadata": {},
   "outputs": [],
   "source": [
    "import numpy as np\n",
    "\n",
    "# Define the reward and probability arrays\n",
    "reward = [100 , 500 , 1000 , 5000, 10000 , 50000 , 100000 , 500000 , 1000000 , 5000000]\n",
    "probability = [0.99 , 0.9, 0.8, 0.7, 0.6, 0.5 , 0.4 , 0.3 , 0.2 , 0.1]\n",
    "\n",
    "assert(len(reward) == len(probability))\n",
    "\n",
    "# Define the discount factor\n",
    "gamma = 0.9\n",
    "\n",
    "# Define the transition probabilities\n",
    "p = np.zeros((len(reward)+1, 2, len(reward)+2))\n",
    "for i in range(len(reward)):\n",
    "    p[i, 0, i+1] = probability[i]\n",
    "    p[i, 0, -1] = 1 - probability[i]\n",
    "    p[i, 1, -1] = 1\n",
    "p[-2, 0, -1] = 1\n",
    "p[-1, 0, -1] = 1\n",
    "\n",
    "# Define the value function and policy arrays\n",
    "V = np.zeros(len(reward)+2)\n",
    "policy = np.zeros(len(reward)+2, dtype=int)\n",
    "\n",
    "# Perform value iteration\n",
    "for i in range(1000):\n",
    "    Q = np.zeros((len(reward)+2, 2))\n",
    "    for s in range(len(reward)+1):\n",
    "        for a in range(2):\n",
    "            for s_next in range(len(reward)+2):\n",
    "                Q[s, a] += p[s, a, s_next] * (reward[s-1] + gamma * V[s_next])\n",
    "        policy[s] = np.argmax(Q[s, :])\n",
    "        V[s] = np.max(Q[s, :])\n",
    "\n",
    "# Print the optimal policy and value function\n",
    "# print(\"Optimal policy:\", policy)\n",
    "print(\"Optimal value function:\")\n",
    "for i , v in enumerate(V):\n",
    "\tprint(f\"{i} -> {v}\")\n",
    "\n",
    "\n",
    "print(f\"Maximum reward : {max(V)}\")"
   ]
  }
 ],
 "metadata": {
  "language_info": {
   "name": "python"
  },
  "orig_nbformat": 4
 },
 "nbformat": 4,
 "nbformat_minor": 2
}
